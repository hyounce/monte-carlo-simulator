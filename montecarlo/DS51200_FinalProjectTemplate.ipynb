{
 "cells": [
  {
   "cell_type": "markdown",
   "id": "45762487-d33f-486d-8e38-2cdea04e3528",
   "metadata": {},
   "source": [
    "# Final Project Report\n",
    "\n",
    "* Class: DS 5100\n",
    "* Student Name: Hilde Younce\n",
    "* Student Net ID: ksg8xy\n",
    "* This URL: https://github.com/hyounce/ds5100-finalproject-ksg8xy/blob/main/montecarlo/DS51200_FinalProjectTemplate.ipynb"
   ]
  },
  {
   "cell_type": "markdown",
   "id": "acf756c1-ecaa-41dc-b6ca-d566eb94560b",
   "metadata": {},
   "source": [
    "# Instructions\n",
    "\n",
    "Follow the instructions in the Final Project isntructions notebook and put evidence of your work in this notebook.\n",
    "\n",
    "Total points for each subsection under **Deliverables** and **Scenarios** are given in parentheses.\n",
    "\n",
    "Breakdowns of points within subsections are specified within subsection instructions as bulleted lists.\n",
    "\n",
    "This project is worth **50 points**."
   ]
  },
  {
   "cell_type": "markdown",
   "id": "89dc7a32-f682-4402-8c1e-b6ccdb3e0e39",
   "metadata": {},
   "source": [
    "# Deliverables"
   ]
  },
  {
   "cell_type": "markdown",
   "id": "d32cb273-9a40-4909-a7ce-51f6e4958d3c",
   "metadata": {},
   "source": [
    "## The Monte Carlo Module (10)\n",
    "\n",
    "- URL included, appropriately named (1).\n",
    "- Includes all three specified classes (3).\n",
    "- Includes at least all 12 specified methods (6; .5 each)."
   ]
  },
  {
   "cell_type": "markdown",
   "id": "f5f3b070-de9e-4de9-bfae-8974d184aa28",
   "metadata": {},
   "source": [
    "Put the URL to your GitHub repo here.\n",
    "\n",
    "Repo URL: https://github.com/hyounce/ds5100-finalproject-ksg8xy"
   ]
  },
  {
   "cell_type": "markdown",
   "id": "162370fb-3729-4c85-b040-8c25b2c966d2",
   "metadata": {},
   "source": [
    "Paste a copy of your module here.\n",
    "\n",
    "NOTE: Paste as text, not as code. Use triple backticks to wrap your code blocks."
   ]
  },
  {
   "cell_type": "code",
   "execution_count": null,
   "id": "a0743efc-a785-4b5c-a9e6-b65d4507a67f",
   "metadata": {},
   "outputs": [],
   "source": []
  },
  {
   "cell_type": "markdown",
   "id": "6377727a-8f0a-491e-9f1c-d9dc225edd35",
   "metadata": {},
   "source": [
    "## Unitest Module (2)\n",
    "\n",
    "Paste a copy of your test module below.\n",
    "\n",
    "NOTE: Paste as text, not as code. Use triple backticks to wrap your code blocks.\n",
    "\n",
    "- All methods have at least one test method (1).\n",
    "- Each method employs one of Unittest's Assert methods (1)."
   ]
  },
  {
   "cell_type": "code",
   "execution_count": null,
   "id": "14b878d8-258b-4cf2-ad88-b8ee90d43977",
   "metadata": {},
   "outputs": [],
   "source": []
  },
  {
   "cell_type": "markdown",
   "id": "3e058d03-29bc-408f-b36d-0605b4f4b8c0",
   "metadata": {
    "tags": []
   },
   "source": [
    "## Unittest Results (3)\n",
    "\n",
    "Put a copy of the results of running your tests from the command line here.\n",
    "\n",
    "Again, paste as text using triple backticks.\n",
    "\n",
    "- All 12 specified methods return OK (3; .25 each)."
   ]
  },
  {
   "cell_type": "raw",
   "id": "54691fd0-836c-43c7-adc9-4a09d8aa9ab2",
   "metadata": {
    "tags": [],
    "vscode": {
     "languageId": "raw"
    }
   },
   "source": [
    "Welcome to the montecarlo module.\n",
    "test_analyzer_combo_count (__main__.MontecarloTestSuite) ... ok\n",
    "test_analyzer_face_counts (__main__.MontecarloTestSuite) ... ok\n",
    "test_analyzer_init (__main__.MontecarloTestSuite) ... ok\n",
    "test_analyzer_jackpot (__main__.MontecarloTestSuite) ... ok\n",
    "test_analyzer_perm_count (__main__.MontecarloTestSuite) ... ok\n",
    "test_die_current_state (__main__.MontecarloTestSuite) ... ok\n",
    "test_die_init_array (__main__.MontecarloTestSuite) ... ok\n",
    "test_die_roll_die (__main__.MontecarloTestSuite) ... ok\n",
    "test_die_set_weight (__main__.MontecarloTestSuite) ... ok\n",
    "test_die_unique_faces (__main__.MontecarloTestSuite) ... ok\n",
    "test_game_init (__main__.MontecarloTestSuite) ... ok\n",
    "test_game_play (__main__.MontecarloTestSuite) ... ok\n",
    "test_game_recent_results (__main__.MontecarloTestSuite) ... ok\n",
    "\n",
    "----------------------------------------------------------------------\n",
    "Ran 13 tests in 0.022s\n",
    "\n",
    "OK"
   ]
  },
  {
   "cell_type": "markdown",
   "id": "d9ffe8c5-eb2f-4ad1-af76-a46550e4c7ac",
   "metadata": {},
   "source": [
    "## Import (1)\n",
    "\n",
    "Import your module here. This import should refer to the code in your package directory.\n",
    "\n",
    "- Module successuflly imported (1)."
   ]
  },
  {
   "cell_type": "code",
   "execution_count": 112,
   "id": "358ea7bb",
   "metadata": {},
   "outputs": [],
   "source": [
    "import montecarlo"
   ]
  },
  {
   "cell_type": "markdown",
   "id": "f30c4842-65b1-4556-98b6-3fe1a07e1371",
   "metadata": {},
   "source": [
    "## Help Docs (4)\n",
    "\n",
    "Show your docstring documentation by applying `help()` to your imported module.\n",
    "\n",
    "- All methods have a docstring (3; .25 each).\n",
    "- All classes have a docstring (1; .33 each)."
   ]
  },
  {
   "cell_type": "code",
   "execution_count": 113,
   "id": "bf4fbf1f-9885-471c-a0a6-e9ca90e160de",
   "metadata": {
    "tags": []
   },
   "outputs": [],
   "source": [
    "# help(montecarlo)"
   ]
  },
  {
   "cell_type": "markdown",
   "id": "a9defa84-b395-4966-bd1c-5c6c2bb7ed68",
   "metadata": {},
   "source": [
    "## `README.md` File (3)\n",
    "\n",
    "Provide link to the README.md file of your project's repo.\n",
    "\n",
    "- Metadata section or info present (1).\n",
    "- Synopsis section showing how each class is called (1). (All must be included.)\n",
    "- API section listing all classes and methods (1). (All must be included.)"
   ]
  },
  {
   "cell_type": "markdown",
   "id": "ee090b33-d593-48a0-bf35-e739cea0942c",
   "metadata": {},
   "source": [
    "URL:"
   ]
  },
  {
   "cell_type": "markdown",
   "id": "108604c8-8827-42ef-ab59-6b25428fc0ca",
   "metadata": {},
   "source": [
    "## Successful installation (2)\n",
    "\n",
    "Put a screenshot or paste a copy of a terminal session where you successfully install your module with pip.\n",
    "\n",
    "If pasting text, use a preformatted text block to show the results.\n",
    "\n",
    "- Installed with `pip` (1).\n",
    "- Successfully installed message appears (1)."
   ]
  },
  {
   "cell_type": "raw",
   "id": "1278db6a-aa53-4e5c-a749-93a87ab239e0",
   "metadata": {
    "vscode": {
     "languageId": "raw"
    }
   },
   "source": [
    "(base) hildeyounce@Hildes-MacBook-Pro ds5100-finalproject-ksg8xy % pip install .\n",
    "Processing /Users/hildeyounce/VSCode/ds5100-finalproject-ksg8xy\n",
    "  Preparing metadata (setup.py) ... done\n",
    "Building wheels for collected packages: ds5100-finalproject-ksg8xy\n",
    "  Building wheel for ds5100-finalproject-ksg8xy (setup.py) ... done\n",
    "  Created wheel for ds5100-finalproject-ksg8xy: filename=ds5100_finalproject_ksg8xy-1.0.0-py3-none-any.whl size=4088 sha256=2feadf50cb9aa14227cb7ce07d1b25b1818c4693f818f7f66fa139af2d0b71df\n",
    "  Stored in directory: /Users/hildeyounce/Library/Caches/pip/wheels/94/fd/ff/71e356a4b568ba9569eeab7571f5bfa44fadd9ec2dddfb848d\n",
    "Successfully built ds5100-finalproject-ksg8xy\n",
    "Installing collected packages: ds5100-finalproject-ksg8xy\n",
    "  Attempting uninstall: ds5100-finalproject-ksg8xy\n",
    "    Found existing installation: ds5100-finalproject-ksg8xy 1.0.0\n",
    "    Uninstalling ds5100-finalproject-ksg8xy-1.0.0:\n",
    "      Successfully uninstalled ds5100-finalproject-ksg8xy-1.0.0\n",
    "Successfully installed ds5100-finalproject-ksg8xy-1.0.0"
   ]
  },
  {
   "cell_type": "markdown",
   "id": "7c44695d-d1b3-4edf-9f94-e64d7446f199",
   "metadata": {},
   "source": [
    "# Scenarios\n",
    "\n",
    "Use code blocks to perform the tasks for each scenario.\n",
    "\n",
    "Be sure the outputs are visible before submitting."
   ]
  },
  {
   "cell_type": "markdown",
   "id": "e2479eae-6fc9-44cd-b8d7-9b22cb501f2a",
   "metadata": {
    "jp-MarkdownHeadingCollapsed": true,
    "tags": []
   },
   "source": [
    "## Scenario 1: A 2-headed Coin (9)\n",
    "\n",
    "Task 1. Create a fair coin (with faces $H$ and $T$) and one unfair coin in which one of the faces has a weight of $5$ and the others $1$.\n",
    "\n",
    "- Fair coin created (1).\n",
    "- Unfair coin created with weight as specified (1)."
   ]
  },
  {
   "cell_type": "code",
   "execution_count": 114,
   "id": "55ce498e-c75f-4425-9e3e-b635bd6cd9e1",
   "metadata": {},
   "outputs": [],
   "source": [
    "from montecarlo import Die, Game, Analyzer\n",
    "import numpy as np\n",
    "import pandas as pd\n",
    "import matplotlib.pyplot as plt"
   ]
  },
  {
   "cell_type": "code",
   "execution_count": 115,
   "id": "93b464ee",
   "metadata": {},
   "outputs": [
    {
     "data": {
      "text/plain": [
       "[5, 1]"
      ]
     },
     "execution_count": 115,
     "metadata": {},
     "output_type": "execute_result"
    }
   ],
   "source": [
    "fair_coin = Die(np.array(['H', 'T']))\n",
    "unfair_coin = Die(np.array(['H', 'T']))\n",
    "unfair_coin.set_weight('H', 5)\n",
    "unfair_coin.weights"
   ]
  },
  {
   "cell_type": "markdown",
   "id": "02b272ab-99da-4b6e-ac2a-555b73e09c07",
   "metadata": {},
   "source": [
    "Task 2. Play a game of $1000$ flips with two fair dice.\n",
    "\n",
    "- Play method called correclty and without error (1)."
   ]
  },
  {
   "cell_type": "code",
   "execution_count": 116,
   "id": "65c92601-d32d-4326-b215-74953aee27f2",
   "metadata": {},
   "outputs": [
    {
     "name": "stdout",
     "output_type": "stream",
     "text": [
      "             0  1\n",
      "roll number      \n",
      "0            H  T\n",
      "1            T  T\n",
      "2            T  T\n",
      "3            H  H\n",
      "4            T  H\n",
      "...         .. ..\n",
      "995          T  H\n",
      "996          H  T\n",
      "997          H  T\n",
      "998          T  T\n",
      "999          T  H\n",
      "\n",
      "[1000 rows x 2 columns]\n"
     ]
    }
   ],
   "source": [
    "fair_coin1 = Die(np.array(['H', 'T']))\n",
    "game1 = Game([fair_coin, fair_coin1])\n",
    "game1.play(1000)\n",
    "print(game1.recent_results())"
   ]
  },
  {
   "cell_type": "markdown",
   "id": "7d9c3dc8-22c1-4cae-81fb-d68d774a05d1",
   "metadata": {},
   "source": [
    "Task 3. Play another game (using a new Game object) of $1000$ flips, this time using two unfair dice and one fair die. For the second unfair die, you can use the same die object twice in the list of dice you pass to the Game object.\n",
    "\n",
    "- New game object created (1).\n",
    "- Play method called correclty and without error (1)."
   ]
  },
  {
   "cell_type": "code",
   "execution_count": 117,
   "id": "d4098bed-1eb2-4084-8d5e-9fda07c3be43",
   "metadata": {},
   "outputs": [
    {
     "name": "stdout",
     "output_type": "stream",
     "text": [
      "             0  1  2\n",
      "roll number         \n",
      "0            H  H  T\n",
      "1            H  H  H\n",
      "2            H  H  H\n",
      "3            H  H  H\n",
      "4            T  H  H\n",
      "...         .. .. ..\n",
      "995          T  T  H\n",
      "996          H  H  H\n",
      "997          T  H  H\n",
      "998          T  H  H\n",
      "999          H  H  T\n",
      "\n",
      "[1000 rows x 3 columns]\n"
     ]
    }
   ],
   "source": [
    "unfair_coin1 = Die(np.array(['H', 'T']))\n",
    "unfair_coin1.set_weight('H', 5)\n",
    "\n",
    "game2 = Game([fair_coin, unfair_coin, unfair_coin1])\n",
    "game2.play(1000)\n",
    "print(game2.recent_results())"
   ]
  },
  {
   "cell_type": "markdown",
   "id": "f690ebfc-fe71-4eb2-976d-7ac80ca6c23f",
   "metadata": {},
   "source": [
    "Task 4. For each game, use an Analyzer object to determine the raw frequency of jackpots — i.e. getting either all $H$s or all $T$s.\n",
    "\n",
    "- Analyzer objecs instantiated for both games (1).\n",
    "- Raw frequencies reported for both (1)."
   ]
  },
  {
   "cell_type": "code",
   "execution_count": 118,
   "id": "b26b8b7e-3be7-4476-a9a4-37d97536729e",
   "metadata": {},
   "outputs": [
    {
     "name": "stdout",
     "output_type": "stream",
     "text": [
      "498\n",
      "381\n"
     ]
    }
   ],
   "source": [
    "analyzer1 = Analyzer(game1)\n",
    "analyzer2 = Analyzer(game2)\n",
    "print(analyzer1.jackpot())\n",
    "print(analyzer2.jackpot())"
   ]
  },
  {
   "cell_type": "markdown",
   "id": "b73d233c-445e-40cd-8858-0c5e1f097105",
   "metadata": {},
   "source": [
    "Task 5. For each analyzer, compute relative frequency as the number of jackpots over the total number of rolls.\n",
    "\n",
    "- Both relative frequencies computed (1)."
   ]
  },
  {
   "cell_type": "code",
   "execution_count": 119,
   "id": "9a96b31b-1b9d-496e-be3e-4bf83c45ec3a",
   "metadata": {},
   "outputs": [
    {
     "name": "stdout",
     "output_type": "stream",
     "text": [
      "0.498 0.381\n"
     ]
    }
   ],
   "source": [
    "freq1 = analyzer1.jackpot() / 1000\n",
    "freq2 = analyzer2.jackpot() / 1000\n",
    "print(freq1, freq2)"
   ]
  },
  {
   "cell_type": "markdown",
   "id": "a6e1e734-7f5c-4721-8ba4-2f3a424cf984",
   "metadata": {},
   "source": [
    "Task 6. Show your results, comparing the two relative frequencies, in a simple bar chart.\n",
    "\n",
    "- Bar chart plotted and correct (1)."
   ]
  },
  {
   "cell_type": "code",
   "execution_count": 120,
   "id": "473fa67c-aa53-4aa3-a0b7-e8772b3f6ed3",
   "metadata": {},
   "outputs": [
    {
     "data": {
      "text/plain": [
       "<BarContainer object of 2 artists>"
      ]
     },
     "execution_count": 120,
     "metadata": {},
     "output_type": "execute_result"
    },
    {
     "data": {
      "image/png": "[encoded data removed]",
      "text/plain": [
       "<Figure size 640x480 with 1 Axes>"
      ]
     },
     "metadata": {},
     "output_type": "display_data"
    }
   ],
   "source": [
    "plt.bar(['Game 1', 'Game 2'],[freq1, freq2], width = 0.5)"
   ]
  },
  {
   "cell_type": "markdown",
   "id": "725cfa5b-e4b7-47c9-86aa-8d9e1fe6c8c7",
   "metadata": {},
   "source": [
    "## Scenario 2: A 6-sided Die (9)\n",
    "\n",
    "Task 1. Create three dice, each with six sides having the faces 1 through 6.\n",
    "\n",
    "- Three die objects created (1)."
   ]
  },
  {
   "cell_type": "code",
   "execution_count": 121,
   "id": "6a8bc611-325a-4e05-88d5-980e0a2cf7c5",
   "metadata": {},
   "outputs": [],
   "source": [
    "die1 = Die(np.array([1,2,3,4,5,6]))\n",
    "die2 = Die(np.array([1,2,3,4,5,6]))\n",
    "die3 = Die(np.array([1,2,3,4,5,6]))"
   ]
  },
  {
   "cell_type": "markdown",
   "id": "2ed3ad26-fbe9-43bd-9ad7-f683a4191d12",
   "metadata": {},
   "source": [
    "Task 2. Convert one of the dice to an unfair one by weighting the face $6$ five times more than the other weights (i.e. it has weight of 5 and the others a weight of 1 each).\n",
    "\n",
    "- Unfair die created with proper call to weight change method (1)."
   ]
  },
  {
   "cell_type": "code",
   "execution_count": 122,
   "id": "e33dd18f-7f90-456d-a680-61c08a328e21",
   "metadata": {},
   "outputs": [
    {
     "data": {
      "text/plain": [
       "[1, 1, 1, 1, 1, 5]"
      ]
     },
     "execution_count": 122,
     "metadata": {},
     "output_type": "execute_result"
    }
   ],
   "source": [
    "die1.set_weight(6, 5)\n",
    "die1.weights"
   ]
  },
  {
   "cell_type": "markdown",
   "id": "7f6c062a-4c5b-45b9-96b8-76a0354c7e47",
   "metadata": {},
   "source": [
    "Task 3. Convert another of the dice to be unfair by weighting the face $1$ five times more than the others.\n",
    "\n",
    "- Unfair die created with proper call to weight change method (1)."
   ]
  },
  {
   "cell_type": "code",
   "execution_count": 123,
   "id": "01133a4e-6b06-4246-8d90-8e6d6995be51",
   "metadata": {},
   "outputs": [
    {
     "data": {
      "text/plain": [
       "[5, 1, 1, 1, 1, 1]"
      ]
     },
     "execution_count": 123,
     "metadata": {},
     "output_type": "execute_result"
    }
   ],
   "source": [
    "die2.set_weight(1, 5)\n",
    "die2.weights"
   ]
  },
  {
   "cell_type": "markdown",
   "id": "f0ed31cb-0a3c-4eb2-b85e-6ed6b2eb6e58",
   "metadata": {},
   "source": [
    "Task 4. Play a game of $10000$ rolls with $5$ fair dice.\n",
    "\n",
    "- Game class properly instantiated (1). \n",
    "- Play method called properly (1)."
   ]
  },
  {
   "cell_type": "code",
   "execution_count": 124,
   "id": "e92395a4-9ed8-4cb0-8c85-38768a784ffc",
   "metadata": {},
   "outputs": [
    {
     "name": "stdout",
     "output_type": "stream",
     "text": [
      "             0  1  2  3  4\n",
      "roll number               \n",
      "0            1  6  5  4  4\n",
      "1            5  1  1  3  3\n",
      "2            2  2  2  5  3\n",
      "3            4  3  2  1  4\n",
      "4            2  2  3  1  4\n",
      "...         .. .. .. .. ..\n",
      "9995         6  3  2  4  6\n",
      "9996         3  4  2  2  3\n",
      "9997         1  2  5  5  3\n",
      "9998         5  4  4  3  4\n",
      "9999         5  4  5  3  3\n",
      "\n",
      "[10000 rows x 5 columns]\n"
     ]
    }
   ],
   "source": [
    "die1 = Die(np.array([1,2,3,4,5,6]))\n",
    "die2 = Die(np.array([1,2,3,4,5,6]))\n",
    "die3 = Die(np.array([1,2,3,4,5,6]))\n",
    "die4 = Die(np.array([1,2,3,4,5,6]))\n",
    "die5 = Die(np.array([1,2,3,4,5,6]))\n",
    "\n",
    "game1 = Game([die1, die2, die3, die4, die5])\n",
    "game1.play(10000)\n",
    "print(game1.recent_results())"
   ]
  },
  {
   "cell_type": "markdown",
   "id": "7814b402-46a4-40e5-8141-20e05c3e646b",
   "metadata": {},
   "source": [
    "Task 5. Play another game of $10000$ rolls, this time with $2$ unfair dice, one as defined in steps #2 and #3 respectively, and $3$ fair dice.\n",
    "\n",
    "- Game class properly instantiated (1). \n",
    "- Play method called properly (1)."
   ]
  },
  {
   "cell_type": "code",
   "execution_count": 125,
   "id": "7cd58fba-b2a5-4d5d-bc6d-2a7a68d18c4f",
   "metadata": {},
   "outputs": [
    {
     "name": "stdout",
     "output_type": "stream",
     "text": [
      "             0  1  2  3  4\n",
      "roll number               \n",
      "0            2  1  5  6  2\n",
      "1            6  1  1  6  5\n",
      "2            6  1  3  3  4\n",
      "3            1  1  4  3  5\n",
      "4            6  4  2  1  4\n",
      "...         .. .. .. .. ..\n",
      "9995         1  5  6  4  5\n",
      "9996         4  1  3  5  2\n",
      "9997         6  1  5  1  5\n",
      "9998         6  1  6  5  5\n",
      "9999         6  6  5  4  5\n",
      "\n",
      "[10000 rows x 5 columns]\n"
     ]
    }
   ],
   "source": [
    "die1 = Die(np.array([1,2,3,4,5,6]))\n",
    "die2 = Die(np.array([1,2,3,4,5,6]))\n",
    "die3 = Die(np.array([1,2,3,4,5,6]))\n",
    "die4 = Die(np.array([1,2,3,4,5,6]))\n",
    "die5 = Die(np.array([1,2,3,4,5,6]))\n",
    "\n",
    "die1.set_weight(6, 5)\n",
    "die2.set_weight(1, 5)\n",
    "\n",
    "game2 = Game([die1, die2, die3, die4, die5])\n",
    "game2.play(10000)\n",
    "print(game2.recent_results())"
   ]
  },
  {
   "cell_type": "markdown",
   "id": "7b6cd372-2bb8-4df8-ade1-8f48bc300955",
   "metadata": {},
   "source": [
    "Task 6. For each game, use an Analyzer object to determine the relative frequency of jackpots and show your results, comparing the two relative frequencies, in a simple bar chart.\n",
    "\n",
    "- Jackpot methods called (1).\n",
    "- Graph produced (1)."
   ]
  },
  {
   "cell_type": "code",
   "execution_count": 126,
   "id": "bbdcf695-8937-406e-9b53-aa0b9ee3c59a",
   "metadata": {},
   "outputs": [
    {
     "name": "stdout",
     "output_type": "stream",
     "text": [
      "8 5\n"
     ]
    },
    {
     "data": {
      "text/plain": [
       "<BarContainer object of 2 artists>"
      ]
     },
     "execution_count": 126,
     "metadata": {},
     "output_type": "execute_result"
    },
    {
     "data": {
      "image/png": "[encoded data removed]",
      "text/plain": [
       "<Figure size 640x480 with 1 Axes>"
      ]
     },
     "metadata": {},
     "output_type": "display_data"
    }
   ],
   "source": [
    "analyzer1 = Analyzer(game1)\n",
    "analyzer2 = Analyzer(game2)\n",
    "print(analyzer1.jackpot(), analyzer2.jackpot())\n",
    "freq1 = analyzer1.jackpot() / 1000\n",
    "freq2 = analyzer2.jackpot() / 1000\n",
    "plt.bar(['Game 1', 'Game 2'],[freq1, freq2], width = 0.5)"
   ]
  },
  {
   "cell_type": "markdown",
   "id": "9f04e9be-8fcf-4ea4-a391-6614608285f8",
   "metadata": {},
   "source": [
    "## Scenario 3: Letters of the Alphabet (7)\n",
    "\n",
    "Task 1. Create a \"die\" of letters from $A$ to $Z$ with weights based on their frequency of usage as found in the data file `english_letters.txt`. Use the frequencies (i.e. raw counts) as weights.\n",
    "\n",
    "- Die correctly instantiated with source file data (1).\n",
    "- Weights properly applied using weight setting method (1)."
   ]
  },
  {
   "cell_type": "code",
   "execution_count": 127,
   "id": "b0ceb771-3cdf-4d8f-8c2c-020806bbb909",
   "metadata": {},
   "outputs": [
    {
     "name": "stdout",
     "output_type": "stream",
     "text": [
      "     weights\n",
      "E  529117365\n",
      "T  390965105\n",
      "A  374061888\n",
      "O  326627740\n",
      "I  320410057\n",
      "N  313720540\n",
      "S  294300210\n",
      "R  277000841\n",
      "H  216768975\n",
      "L  183996130\n",
      "D  169330528\n",
      "C  138416451\n",
      "U  117295780\n",
      "M  110504544\n",
      "F   95422055\n",
      "G   91258980\n",
      "P   90376747\n",
      "W   79843664\n",
      "Y   75294515\n",
      "B   70195826\n",
      "V   46337161\n",
      "K   35373464\n",
      "J    9613410\n",
      "X    8369915\n",
      "Z    4975847\n",
      "Q    4550166\n"
     ]
    }
   ],
   "source": [
    "english_df = pd.read_csv('english_letters.txt', delimiter=' ', header= None)\n",
    "letters = english_df[0].tolist()\n",
    "weights = english_df[1].tolist()\n",
    "\n",
    "die = Die(np.array(letters))\n",
    "for i in range(len(letters)):\n",
    "    die.set_weight(letters[i], weights[i])\n",
    "\n",
    "print(die.die_df)"
   ]
  },
  {
   "cell_type": "markdown",
   "id": "88e2e14a-6223-470a-a2c8-bca1120d7a5b",
   "metadata": {},
   "source": [
    "Task 2. Play a game involving $4$ of these dice with $1000$ rolls.\n",
    "\n",
    "- Game play method properly called (1)."
   ]
  },
  {
   "cell_type": "code",
   "execution_count": 128,
   "id": "2ae087cc-936d-4f1e-bddb-a7c179d139e0",
   "metadata": {},
   "outputs": [
    {
     "name": "stdout",
     "output_type": "stream",
     "text": [
      "             0  1  2  3\n",
      "roll number            \n",
      "0            O  I  F  R\n",
      "1            F  H  O  T\n",
      "2            R  F  G  V\n",
      "3            B  T  L  N\n",
      "4            N  N  P  E\n",
      "...         .. .. .. ..\n",
      "995          U  E  T  A\n",
      "996          C  E  O  O\n",
      "997          S  H  T  A\n",
      "998          N  N  T  P\n",
      "999          S  Y  T  N\n",
      "\n",
      "[1000 rows x 4 columns]\n"
     ]
    }
   ],
   "source": [
    "die1 = Die(np.array(letters))\n",
    "die2 = Die(np.array(letters))\n",
    "die3 = Die(np.array(letters))\n",
    "die4 = Die(np.array(letters))\n",
    "dice = [die1, die2, die3, die4]\n",
    "\n",
    "for die in dice:\n",
    "    for i in range(len(letters)):\n",
    "        die.set_weight(letters[i], weights[i])\n",
    "\n",
    "game1 = Game(dice)\n",
    "game1.play(1000)\n",
    "print(game1.recent_results())\n"
   ]
  },
  {
   "cell_type": "markdown",
   "id": "3b9ff800-bf1f-4f66-9d7f-ff57a648e9f0",
   "metadata": {},
   "source": [
    "Task 3. Determine how many permutations in your results are actual English words, based on the vocabulary found in `scrabble_words.txt`.\n",
    "\n",
    "- Use permutation method (1).\n",
    "- Get count as difference between permutations and vocabulary (1)."
   ]
  },
  {
   "cell_type": "code",
   "execution_count": 129,
   "id": "ed1c7fa0-cfa3-4cf4-9fd0-9f84b86b0f64",
   "metadata": {},
   "outputs": [
    {
     "name": "stdout",
     "output_type": "stream",
     "text": [
      "42\n"
     ]
    }
   ],
   "source": [
    "analyzer1 = Analyzer(game1)\n",
    "vocab = pd.read_csv('scrabble_words.txt', header=None)[0].tolist()\n",
    "\n",
    "perm_df = analyzer1.permutation_count().to_frame()\n",
    "perm_words = [''.join(tup) for tup in perm_df.index]\n",
    "word_count = sum([word in vocab for word in perm_words])\n",
    "\n",
    "print(word_count)"
   ]
  },
  {
   "cell_type": "markdown",
   "id": "fcf068cf-381a-4b3e-ac3a-0510eb4dbdb0",
   "metadata": {},
   "source": [
    "Task 4. Repeat steps #2 and #3, this time with $5$ dice. How many actual words does this produce? Which produces more?\n",
    "\n",
    "- Successfully repreats steps (1).\n",
    "- Identifies parameter with most found words (1)."
   ]
  },
  {
   "cell_type": "code",
   "execution_count": 130,
   "id": "8dafd989",
   "metadata": {},
   "outputs": [
    {
     "name": "stdout",
     "output_type": "stream",
     "text": [
      "             0  1  2  3  4\n",
      "roll number               \n",
      "0            E  U  R  B  K\n",
      "1            M  D  E  T  N\n",
      "2            E  H  E  W  E\n",
      "3            C  C  L  M  A\n",
      "4            A  D  E  A  P\n",
      "...         .. .. .. .. ..\n",
      "995          H  W  G  Z  A\n",
      "996          O  O  S  M  S\n",
      "997          I  U  N  T  A\n",
      "998          M  I  N  T  Y\n",
      "999          M  T  H  L  Y\n",
      "\n",
      "[1000 rows x 5 columns]\n"
     ]
    }
   ],
   "source": [
    "die1 = Die(np.array(letters))\n",
    "die2 = Die(np.array(letters))\n",
    "die3 = Die(np.array(letters))\n",
    "die4 = Die(np.array(letters))\n",
    "die5 = Die(np.array(letters))\n",
    "dice = [die1, die2, die3, die4, die5]\n",
    "\n",
    "for die in dice:\n",
    "    for i in range(len(letters)):\n",
    "        die.set_weight(letters[i], weights[i])\n",
    "\n",
    "game2 = Game(dice)\n",
    "game2.play(1000)\n",
    "print(game2.recent_results())"
   ]
  },
  {
   "cell_type": "code",
   "execution_count": 131,
   "id": "c35ed958",
   "metadata": {},
   "outputs": [
    {
     "name": "stdout",
     "output_type": "stream",
     "text": [
      "7\n"
     ]
    }
   ],
   "source": [
    "analyzer2 = Analyzer(game2)\n",
    "perm_df = analyzer2.permutation_count().to_frame()\n",
    "perm_words = [''.join(tup) for tup in perm_df.index]\n",
    "word_count = sum([word in vocab for word in perm_words])\n",
    "\n",
    "print(word_count)"
   ]
  },
  {
   "cell_type": "markdown",
   "id": "ad2f9400",
   "metadata": {},
   "source": [
    "The first game, which had only four dice, had 42 permutations of English words compared to 7 words in the second game. \n",
    "The reason for this is that the addition of a fith die decreases the probability that a random roll of five dice will produce a word, as it is easier to roll a four-letter word than a five-letter word."
   ]
  },
  {
   "cell_type": "markdown",
   "id": "23ab471f",
   "metadata": {},
   "source": []
  }
 ],
 "metadata": {
  "kernelspec": {
   "display_name": "Python 3",
   "language": "python",
   "name": "python3"
  },
  "language_info": {
   "codemirror_mode": {
    "name": "ipython",
    "version": 3
   },
   "file_extension": ".py",
   "mimetype": "text/x-python",
   "name": "python",
   "nbconvert_exporter": "python",
   "pygments_lexer": "ipython3",
   "version": "3.9.19"
  },
  "toc-autonumbering": true,
  "widgets": {
   "application/vnd.jupyter.widget-state+json": {
    "state": {},
    "version_major": 2,
    "version_minor": 0
   }
  }
 },
 "nbformat": 4,
 "nbformat_minor": 5
}
